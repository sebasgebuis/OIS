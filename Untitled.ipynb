{
 "cells": [
  {
   "cell_type": "code",
   "execution_count": 1,
   "id": "6104d5a6",
   "metadata": {},
   "outputs": [],
   "source": [
    "import pandas as pd"
   ]
  },
  {
   "cell_type": "code",
   "execution_count": 2,
   "id": "b95e79bb",
   "metadata": {},
   "outputs": [],
   "source": [
    "data = pd.read_csv(\"data.csv\", sep = ',')\n",
    "data = data.drop(\"Tijdstempel\", axis = 1)\n",
    "\n",
    "def calc_score(array):\n",
    "    num1, num2 = array.split('/')\n",
    "    return round(int(num1) / int(num2) * 100)\n",
    "\n",
    "data = data.rename({\"Wat is uw leeftijd in cijfers?\": \"leeftijd\", \n",
    "                    \"Wat is uw geslacht?\":\"geslacht\",\n",
    "                   \"Wat is het niveau waaraan u momenteel studeert of heeft gestudeerd, indien u al werkt?\": \"niveau\",\n",
    "                   \"Wat is uw vakgebied of studierichting?\": \"vakgebied\",\n",
    "                   \"Is uw vakgebied of studierichting direct gerelateerd aan technische onderwerpen zoals ICT, kunstmatige intelligentie en AI-generatoren?\"\n",
    "                   : \"relatie-vakgebied\", \"In hoeverre bent u bekend met AI-generatoren?\":\"bekendheid-AI\",\n",
    "                    'Hoe vaardig acht u uzelf in het begrijpen van de werking van AI-generatoren?': 'vaardigheid-AI',\n",
    "                   'Hoe regelmatig gebruikt u zelf AI-generatoren in uw studie of werk? (ChatGPT, DALL-E, Bard)':'regelmaat-AI',\n",
    "                   'Waar heeft u AI-generatoren voorheen voor gebruikt, indien van toepassing?':'gebruik-AI',\n",
    "                   'Hoeveel vertrouwen heeft u in uw vermogen om onderscheid te maken tussen door AI gegenereerde en authentieke afbeeldingen?'\n",
    "                   :'vertrouwen-Onderscheid', 'Vul uw starttijd in':'starttijd',\n",
    "                   'Vul uw eindtijd in:': \"eindtijd\",\n",
    "                   'Score': 'score',\n",
    "                   'Heeft u tijdens de survey nieuwe informatie opgedaan over AI-generatoren die u eerder niet kende?':\n",
    "                   'nieuwe-kennis',\n",
    "                   'In hoeverre heeft uw deelname aan deze survey invloed gehad op uw vertrouwen in het onderscheiden van  authentieke en door AI gegenereerde afbeeldingen?':\n",
    "                   'invloed-survey',\n",
    "                   'Wat vond u van de moeilijkheidsgraad van de afbeeldingen?': 'moeilijkheid',\n",
    "                   \"Hoeveel foto's denkt u correct te hebben onderscheiden tijdens de survey?\": \"inschatting\"}, axis = 'columns')\n",
    "data['score'] = data['score'].apply(calc_score)"
   ]
  },
  {
   "cell_type": "code",
   "execution_count": 3,
   "id": "2851014f",
   "metadata": {
    "scrolled": true
   },
   "outputs": [],
   "source": [
    "def niveau_clean(cel):\n",
    "    if cel == \"Universitair (Bachelor/Master/PhD)\":\n",
    "        return \"Universitair\"\n",
    "    else:\n",
    "        return cel\n",
    "    \n",
    "data['niveau'] = data['niveau'].apply(niveau_clean)"
   ]
  },
  {
   "cell_type": "code",
   "execution_count": 4,
   "id": "070aeffe",
   "metadata": {},
   "outputs": [],
   "source": [
    "def bekendheid(cel):\n",
    "    if cel != \"Nee\":\n",
    "        return \"Ja\"\n",
    "    else:\n",
    "        return \"Nee\"\n",
    "\n",
    "data['relatie-vakgebied'] = data['relatie-vakgebied'].apply(bekendheid)"
   ]
  },
  {
   "cell_type": "code",
   "execution_count": 5,
   "id": "4df06e78",
   "metadata": {
    "scrolled": true
   },
   "outputs": [],
   "source": [
    "fotodic = {str(i)+\": Is deze foto echt of nep?\": \"foto-\"+str(i) for i in range(1,31)}\n",
    "fotodescr = {\"Indien u nep heeft geselecteerd, licht toe welke aspecten van de afbeelding onnatuurlijk zijn voor u. .\" + str(i): \"toelichting-\"+str(i+1) for i in range(1,31)}\n",
    "enekkrkolomxdd = {\"Indien u nep heeft geselecteerd, licht toe welke aspecten van de afbeelding onnatuurlijk zijn voor u. \":\"toelichting-1\"}\n",
    "dic = fotodic | fotodescr | enekkrkolomxdd\n",
    "data = data.rename(dic, axis = 'columns')"
   ]
  },
  {
   "cell_type": "code",
   "execution_count": 6,
   "id": "d125dfdf",
   "metadata": {},
   "outputs": [],
   "source": [
    "def omzet_tijd(tijd):\n",
    "    minuten = 0\n",
    "    minuten += int(tijd.split(\":\")[0]) * 60\n",
    "    minuten += int(tijd.split(\":\")[1])\n",
    "    return minuten\n",
    "\n",
    "data['startminuten'] = data['starttijd'].apply(omzet_tijd) \n",
    "data['eindminuten'] = data['eindtijd'].apply(omzet_tijd) \n",
    "data['tijd'] = data['eindminuten'] - data['startminuten']"
   ]
  },
  {
   "cell_type": "code",
   "execution_count": 7,
   "id": "eb418066-6d00-492c-b88d-dfaad1dff468",
   "metadata": {},
   "outputs": [],
   "source": [
    "import math\n",
    "def to_numeric(array):\n",
    "    if array == \"18,75\":\n",
    "        return 18\n",
    "    return math.floor(float(array))\n",
    "\n",
    "data[\"leeftijd\"] = data[\"leeftijd\"].apply(to_numeric)\n",
    "data = data[data[\"leeftijd\"] > 17]\n",
    "data = data[data[\"tijd\"] > 0]\n",
    "data = data[data[\"tijd\"] < 600]\n",
    "data = data[data[\"foto-22\"] != \"Nep, Echt\"]\n",
    "data = data[data[\"foto-22\"] != \"Echt, Nep\"]\n",
    "data = data[data[\"foto-26\"] != \"Nep, Echt\"]\n",
    "data = data[data[\"foto-26\"] != \"Echt, Nep\"]\n",
    "\n",
    "for i in range (1,31):\n",
    "    data = data[data[\"foto-\"+str(i)] != \"Nep, Echt\"]\n",
    "    data = data[data[\"foto-\"+str(i)] != \"Echt, Nep\"]"
   ]
  },
  {
   "cell_type": "code",
   "execution_count": 8,
   "id": "3db1a1a9-25ab-47d8-842c-5db8aab769f0",
   "metadata": {
    "scrolled": true
   },
   "outputs": [
    {
     "data": {
      "text/plain": [
       "0      Echt\n",
       "136    Echt\n",
       "138    Echt\n",
       "139    Echt\n",
       "140    Echt\n",
       "       ... \n",
       "181     Nep\n",
       "182     Nep\n",
       "27      Nep\n",
       "20      Nep\n",
       "110     Nep\n",
       "Name: foto-26, Length: 193, dtype: object"
      ]
     },
     "metadata": {},
     "output_type": "display_data"
    }
   ],
   "source": [
    "display(data[\"foto-26\"].sort_values())"
   ]
  },
  {
   "cell_type": "code",
   "execution_count": 9,
   "id": "8fada9d2-a1cc-4cc2-9f23-53c31fb48a7a",
   "metadata": {},
   "outputs": [],
   "source": [
    "def convert_answer(answer):\n",
    "    if answer == \"Echt\":\n",
    "        return 1\n",
    "    elif answer == \"Nep\":\n",
    "        return 0\n",
    "    else:\n",
    "        return 999\n",
    "\n",
    "for i in range (1,31):\n",
    "    data[\"foto-\"+str(i)] = data[\"foto-\"+str(i)].apply(convert_answer)"
   ]
  },
  {
   "cell_type": "code",
   "execution_count": 10,
   "id": "ac3bca8c-675a-4c52-b046-1a188ed72ae6",
   "metadata": {},
   "outputs": [
    {
     "data": {
      "text/plain": [
       "110    0\n",
       "198    0\n",
       "197    0\n",
       "193    0\n",
       "182    0\n",
       "      ..\n",
       "81     1\n",
       "83     1\n",
       "84     1\n",
       "72     1\n",
       "219    1\n",
       "Name: foto-26, Length: 193, dtype: int64"
      ]
     },
     "metadata": {},
     "output_type": "display_data"
    }
   ],
   "source": [
    "display(data['foto-26'].sort_values())"
   ]
  },
  {
   "cell_type": "code",
   "execution_count": 11,
   "id": "31be6715",
   "metadata": {},
   "outputs": [],
   "source": [
    "data.to_csv(\"data_clean.csv\")"
   ]
  }
 ],
 "metadata": {
  "kernelspec": {
   "display_name": "Python 3 (ipykernel)",
   "language": "python",
   "name": "python3"
  },
  "language_info": {
   "codemirror_mode": {
    "name": "ipython",
    "version": 3
   },
   "file_extension": ".py",
   "mimetype": "text/x-python",
   "name": "python",
   "nbconvert_exporter": "python",
   "pygments_lexer": "ipython3",
   "version": "3.11.5"
  }
 },
 "nbformat": 4,
 "nbformat_minor": 5
}
